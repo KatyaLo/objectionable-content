{
  "nbformat": 4,
  "nbformat_minor": 0,
  "metadata": {
    "colab": {
      "name": "prediction.ipynb",
      "provenance": []
    },
    "kernelspec": {
      "name": "python3",
      "display_name": "Python 3"
    },
    "language_info": {
      "name": "python"
    }
  },
  "cells": [
    {
      "cell_type": "markdown",
      "source": [
        "# Предсказания\n",
        "## Загрузка обученной модели"
      ],
      "metadata": {
        "id": "tQaBkhoN7XUx"
      }
    },
    {
      "cell_type": "code",
      "source": [
        "import pandas as pd\n",
        "\n",
        "import pickle"
      ],
      "metadata": {
        "id": "rJ_2k-Ck8M8H"
      },
      "execution_count": 1,
      "outputs": []
    },
    {
      "cell_type": "code",
      "source": [
        "def predict_for_message(text):\n",
        "    x = vectorizer.transform([text])\n",
        "    predict = model.predict(x)\n",
        "    return 'Toxic' if predict[0] else 'Not toxic'"
      ],
      "metadata": {
        "id": "h5_4gNrK7iWp"
      },
      "execution_count": 2,
      "outputs": []
    },
    {
      "cell_type": "code",
      "execution_count": 3,
      "metadata": {
        "id": "ymIhJZJv7SKG"
      },
      "outputs": [],
      "source": [
        "model = pickle.load(open('best_model.pickle', 'rb'))\n",
        "vectorizer = pickle.load(open('vectorizer.pickle', 'rb'))"
      ]
    },
    {
      "cell_type": "markdown",
      "source": [
        "## Загрузка тестовых данных"
      ],
      "metadata": {
        "id": "ahLe6eoB7wrG"
      }
    },
    {
      "cell_type": "code",
      "source": [
        "test = pd.read_csv('test.csv')"
      ],
      "metadata": {
        "id": "FfB4ALDD7d5l"
      },
      "execution_count": 4,
      "outputs": []
    },
    {
      "cell_type": "code",
      "source": [
        "toxic_comment = test.loc[0, 'comment_text']"
      ],
      "metadata": {
        "id": "4VnRW7aN7n2G"
      },
      "execution_count": 5,
      "outputs": []
    },
    {
      "cell_type": "code",
      "source": [
        "predict_for_message(toxic_comment)"
      ],
      "metadata": {
        "colab": {
          "base_uri": "https://localhost:8080/",
          "height": 36
        },
        "id": "r_KiKe_79WVa",
        "outputId": "519667b0-da54-47d2-cb07-b274b30c3739"
      },
      "execution_count": 6,
      "outputs": [
        {
          "output_type": "execute_result",
          "data": {
            "text/plain": [
              "'Toxic'"
            ],
            "application/vnd.google.colaboratory.intrinsic+json": {
              "type": "string"
            }
          },
          "metadata": {},
          "execution_count": 6
        }
      ]
    },
    {
      "cell_type": "code",
      "source": [
        "not_toxic_comment = test.loc[5, 'comment_text']"
      ],
      "metadata": {
        "id": "IC9BxANJGxyG"
      },
      "execution_count": 7,
      "outputs": []
    },
    {
      "cell_type": "code",
      "source": [
        "predict_for_message(not_toxic_comment)"
      ],
      "metadata": {
        "colab": {
          "base_uri": "https://localhost:8080/",
          "height": 36
        },
        "id": "3vtPOmc3G1VK",
        "outputId": "912841de-6a8b-4fb6-8843-dc126d04194b"
      },
      "execution_count": 8,
      "outputs": [
        {
          "output_type": "execute_result",
          "data": {
            "text/plain": [
              "'Not toxic'"
            ],
            "application/vnd.google.colaboratory.intrinsic+json": {
              "type": "string"
            }
          },
          "metadata": {},
          "execution_count": 8
        }
      ]
    }
  ]
}