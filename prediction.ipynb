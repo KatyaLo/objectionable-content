{
  "cells": [
    {
      "cell_type": "markdown",
      "metadata": {
        "id": "tQaBkhoN7XUx"
      },
      "source": [
        "# Предсказания\n",
        "## Загрузка обученной модели"
      ]
    },
    {
      "cell_type": "code",
      "execution_count": 1,
      "metadata": {
        "id": "rJ_2k-Ck8M8H"
      },
      "outputs": [],
      "source": [
        "import pandas as pd\n",
        "\n",
        "import pickle"
      ]
    },
    {
      "cell_type": "code",
      "execution_count": 2,
      "metadata": {
        "id": "h5_4gNrK7iWp"
      },
      "outputs": [],
      "source": [
        "def predict_for_message(text):\n",
        "    x = vectorizer.transform([text])\n",
        "    predict = model.predict(x)\n",
        "    return 'Toxic' if predict[0] else 'Not toxic'"
      ]
    },
    {
      "cell_type": "code",
      "execution_count": 3,
      "metadata": {
        "id": "ymIhJZJv7SKG"
      },
      "outputs": [],
      "source": [
        "model = pickle.load(open('pickles/best_model.pickle', 'rb'))\n",
        "vectorizer = pickle.load(open('pickles/vectorizer.pickle', 'rb'))"
      ]
    },
    {
      "cell_type": "markdown",
      "metadata": {
        "id": "ahLe6eoB7wrG"
      },
      "source": [
        "## Загрузка тестовых данных"
      ]
    },
    {
      "cell_type": "code",
      "execution_count": 4,
      "metadata": {
        "id": "FfB4ALDD7d5l"
      },
      "outputs": [],
      "source": [
        "test = pd.read_csv('data/test.csv')"
      ]
    },
    {
      "cell_type": "code",
      "execution_count": 5,
      "metadata": {
        "id": "4VnRW7aN7n2G"
      },
      "outputs": [],
      "source": [
        "toxic_comment = test.loc[0, 'comment_text']"
      ]
    },
    {
      "cell_type": "code",
      "execution_count": 6,
      "metadata": {
        "colab": {
          "base_uri": "https://localhost:8080/",
          "height": 36
        },
        "id": "r_KiKe_79WVa",
        "outputId": "519667b0-da54-47d2-cb07-b274b30c3739"
      },
      "outputs": [
        {
          "data": {
            "application/vnd.google.colaboratory.intrinsic+json": {
              "type": "string"
            },
            "text/plain": [
              "'Toxic'"
            ]
          },
          "execution_count": 6,
          "metadata": {},
          "output_type": "execute_result"
        }
      ],
      "source": [
        "predict_for_message(toxic_comment)"
      ]
    },
    {
      "cell_type": "code",
      "execution_count": 7,
      "metadata": {
        "id": "IC9BxANJGxyG"
      },
      "outputs": [],
      "source": [
        "not_toxic_comment = test.loc[5, 'comment_text']"
      ]
    },
    {
      "cell_type": "code",
      "execution_count": 8,
      "metadata": {
        "colab": {
          "base_uri": "https://localhost:8080/",
          "height": 36
        },
        "id": "3vtPOmc3G1VK",
        "outputId": "912841de-6a8b-4fb6-8843-dc126d04194b"
      },
      "outputs": [
        {
          "data": {
            "application/vnd.google.colaboratory.intrinsic+json": {
              "type": "string"
            },
            "text/plain": [
              "'Not toxic'"
            ]
          },
          "execution_count": 8,
          "metadata": {},
          "output_type": "execute_result"
        }
      ],
      "source": [
        "predict_for_message(not_toxic_comment)"
      ]
    },
    {
      "cell_type": "code",
      "execution_count": null,
      "metadata": {},
      "outputs": [],
      "source": [
        "text = 'your text'"
      ]
    },
    {
      "cell_type": "code",
      "execution_count": null,
      "metadata": {},
      "outputs": [],
      "source": [
        "predict_for_message(text)"
      ]
    }
  ],
  "metadata": {
    "colab": {
      "name": "prediction.ipynb",
      "provenance": []
    },
    "kernelspec": {
      "display_name": "Python 3",
      "name": "python3"
    },
    "language_info": {
      "name": "python"
    }
  },
  "nbformat": 4,
  "nbformat_minor": 0
}
